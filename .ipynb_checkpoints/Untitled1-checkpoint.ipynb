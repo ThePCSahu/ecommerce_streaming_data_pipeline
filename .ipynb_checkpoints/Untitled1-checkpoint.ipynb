{
 "cells": [
  {
   "cell_type": "code",
   "execution_count": 1,
   "id": "98d293ea-b958-4c7b-972f-08370d8ca208",
   "metadata": {},
   "outputs": [],
   "source": [
    "from pyspark.sql import SparkSession\n",
    "from pyspark.sql import Row\n",
    "from pyspark.sql.avro.functions import from_avro, to_avro\n",
    "\n",
    "spark = SparkSession.builder \\\n",
    "    .appName(\"Test\") \\\n",
    "    .config(\"spark.jars.packages\", \"org.apache.spark:spark-avro_2.12:3.5.0\") \\\n",
    "    .getOrCreate()"
   ]
  },
  {
   "cell_type": "code",
   "execution_count": 4,
   "id": "05a0ec69-bfcd-4f5d-bada-fa7444c98014",
   "metadata": {},
   "outputs": [
    {
     "name": "stdout",
     "output_type": "stream",
     "text": [
      "+--------------------+\n",
      "|                avro|\n",
      "+--------------------+\n",
      "|[00 00 04 00 0A 4...|\n",
      "+--------------------+\n",
      "\n"
     ]
    }
   ],
   "source": [
    "data = [(1, Row(age=2, name='Alice'))]\n",
    "df = spark.createDataFrame(data, (\"key\", \"value\"))\n",
    "avroDf = df.select(to_avro(df.value).alias(\"avro\"))\n",
    "avroDf.collect()\n",
    "avroDf.show()"
   ]
  },
  {
   "cell_type": "code",
   "execution_count": 3,
   "id": "37877f70-4678-4adc-a972-dd8717c7b687",
   "metadata": {},
   "outputs": [
    {
     "data": {
      "text/plain": [
       "[Row(value=Row(avro=Row(age=2, name='Alice')))]"
      ]
     },
     "execution_count": 3,
     "metadata": {},
     "output_type": "execute_result"
    }
   ],
   "source": [
    "jsonFormatSchema = '''{\"type\":\"record\",\"name\":\"topLevelRecord\",\"fields\":\n",
    "    [{\"name\":\"avro\",\"type\":[{\"type\":\"record\",\"name\":\"value\",\"namespace\":\"topLevelRecord\",\n",
    "    \"fields\":[{\"name\":\"age\",\"type\":[\"long\",\"null\"]},\n",
    "    {\"name\":\"name\",\"type\":[\"string\",\"null\"]}]},\"null\"]}]}'''\n",
    "avroDf.select(from_avro(avroDf.avro, jsonFormatSchema).alias(\"value\")).collect()\n"
   ]
  },
  {
   "cell_type": "code",
   "execution_count": null,
   "id": "e0603db8-7785-42ca-b465-b13cc066eca2",
   "metadata": {},
   "outputs": [],
   "source": [
    "# This code would normally run on a local machine with the appropriate avro library installed.\n",
    "# I will emulate the expected binary output based on the schema and provided record manually.\n",
    "\n",
    "# Here's what the serialized binary Avro data for the given schema and record would look like:\n",
    "binary_emulated = b'\\x0epmt_12345\\x10ord_67890\\x80\\xa4\\xa8\\xb2\\xb8\\x01\\x80\\xcc\\x88\\xec\\xb8\\x01\\x20\\x8a\\x0f'\n",
    "\n",
    "data = [(binary_emulated)]\n",
    "df = spark.createDataFrame(data, (\"data\"))\n",
    "avroDf = df.select(to_avro(df.data).alias(\"avro\"))\n",
    "avroDf.collect()\n",
    "avroDf.show()\n"
   ]
  }
 ],
 "metadata": {
  "kernelspec": {
   "display_name": "Python 3 (ipykernel)",
   "language": "python",
   "name": "python3"
  },
  "language_info": {
   "codemirror_mode": {
    "name": "ipython",
    "version": 3
   },
   "file_extension": ".py",
   "mimetype": "text/x-python",
   "name": "python",
   "nbconvert_exporter": "python",
   "pygments_lexer": "ipython3",
   "version": "3.11.9"
  }
 },
 "nbformat": 4,
 "nbformat_minor": 5
}
